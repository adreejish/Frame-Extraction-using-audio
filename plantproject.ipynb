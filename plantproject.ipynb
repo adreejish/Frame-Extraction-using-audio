{
 "cells": [
  {
   "cell_type": "code",
   "execution_count": null,
   "metadata": {},
   "outputs": [],
   "source": "import numpy as np\n"
  },
  {
   "cell_type": "code",
   "execution_count": null,
   "metadata": {},
   "outputs": [],
   "source": "import cv2\n"
  },
  {
   "cell_type": "code",
   "execution_count": null,
   "metadata": {},
   "outputs": [],
   "source": "import wave\n"
  },
  {
   "cell_type": "code",
   "execution_count": null,
   "metadata": {},
   "outputs": [],
   "source": "import os"
  },
  {
   "cell_type": "code",
   "execution_count": null,
   "metadata": {},
   "outputs": [],
   "source": "from scipy import signal as sign"
  },
  {
   "cell_type": "code",
   "execution_count": null,
   "metadata": {},
   "outputs": [],
   "source": "spf=wave.open('plantcroppedaudiomono.wav')"
  },
  {
   "cell_type": "code",
   "execution_count": null,
   "metadata": {},
   "outputs": [],
   "source": "signal = spf.readframes(-1)"
  },
  {
   "cell_type": "code",
   "execution_count": null,
   "metadata": {},
   "outputs": [],
   "source": "signal = np.fromstring(signal, \"Int16\")"
  },
  {
   "cell_type": "code",
   "execution_count": null,
   "metadata": {},
   "outputs": [],
   "source": "actsignal=signal"
  },
  {
   "cell_type": "code",
   "execution_count": null,
   "metadata": {},
   "outputs": [],
   "source": "max_sig=np.max(sortedsignals)"
  },
  {
   "cell_type": "code",
   "execution_count": null,
   "metadata": {},
   "outputs": [],
   "source": "max_sig"
  },
  {
   "cell_type": "code",
   "execution_count": null,
   "metadata": {},
   "outputs": [],
   "source": "framerate=spf.getframerate()"
  },
  {
   "cell_type": "code",
   "execution_count": null,
   "metadata": {},
   "outputs": [],
   "source": "framerate"
  },
  {
   "cell_type": "code",
   "execution_count": null,
   "metadata": {},
   "outputs": [],
   "source": "cap=cv2.VideoCapture('plantcropped.webm')\n"
  },
  {
   "cell_type": "code",
   "execution_count": null,
   "metadata": {},
   "outputs": [],
   "source": "fps = cap.get(cv2.CAP_PROP_FPS)"
  },
  {
   "cell_type": "code",
   "execution_count": null,
   "metadata": {},
   "outputs": [],
   "source": "fps"
  },
  {
   "cell_type": "code",
   "execution_count": null,
   "metadata": {},
   "outputs": [],
   "source": "frame_no=framerate/int(fps)"
  },
  {
   "cell_type": "code",
   "execution_count": null,
   "metadata": {},
   "outputs": [],
   "source": "peaks=sign.find_peaks(actsignal,height=max_sig)"
  },
  {
   "cell_type": "code",
   "execution_count": null,
   "metadata": {},
   "outputs": [],
   "source": "trueframes=[]"
  },
  {
   "cell_type": "code",
   "execution_count": null,
   "metadata": {},
   "outputs": [],
   "source": "peaks"
  },
  {
   "cell_type": "code",
   "execution_count": null,
   "metadata": {},
   "outputs": [],
   "source": "for i in peaks[0]:\n    trueframes.append(i/factor)"
  },
  {
   "cell_type": "code",
   "execution_count": null,
   "metadata": {},
   "outputs": [],
   "source": "inttrueframes = [int(i) for i in trueframes] \n"
  },
  {
   "cell_type": "code",
   "execution_count": null,
   "metadata": {},
   "outputs": [],
   "source": "trueset=set(inttrueframes)\n"
  },
  {
   "cell_type": "code",
   "execution_count": null,
   "metadata": {},
   "outputs": [],
   "source": "os.mkdir('plant_touch')"
  },
  {
   "cell_type": "code",
   "execution_count": null,
   "metadata": {},
   "outputs": [],
   "source": "os.mkdir('plant_touch/datastr')"
  },
  {
   "cell_type": "code",
   "execution_count": null,
   "metadata": {},
   "outputs": [],
   "source": "os.mkdir('plant_touch/datastr/train')\n\nos.mkdir('plant_touch/datastr/train/touch')\n\nos.mkdir('plant_touch/datastr/train/notouch')\n\nos.mkdir('plant_touch/datastr/test')\n\nos.mkdir('plant_touch/datastr/test/touch')\n\nos.mkdir('plant_touch/datastr/test/notouch')\n\nos.mkdir('plant_touch/datastr/validation')\n\nos.mkdir('plant_touch/datastr/validation/touch')\n\nos.mkdir('plant_touch/datastr/validation/notouch')"
  },
  {
   "cell_type": "code",
   "execution_count": null,
   "metadata": {},
   "outputs": [],
   "source": "cap=cv2.VideoCapture('plantcropped.webm')\ni=0\nwhile(cap.isOpened()):\n    ret, frame = cap.read()\n    frameno = i\n    name='plant_touch/datastr/'\n    if frameno<=4705:\n        name=name+'train/'\n    elif frameno>4705 and frameno<=6273:\n        name=name+'validation/'\n    else:\n        name=name+'test/'\n    if frameno in trueset:\n        name=name+'touch/'+ str(frameno) + '.jpg'    \n    else:\n        name=name+'notouch/'+str(frameno) + '.jpg'\n        \n    cv2.imwrite(name, frame)  \n    print (frameno)\n    i=i+1\n    if cv2.waitKey(5) & 0xFF == ord('q'):\n        break\n\ncap.release()\ncv2.destroyAllWindows()"
  }
 ],
 "metadata": {
  "kernelspec": {
   "display_name": "Python 3",
   "language": "python",
   "name": "python3"
  },
  "language_info": {
   "codemirror_mode": {
    "name": "ipython",
    "version": 2
   },
   "file_extension": ".py",
   "mimetype": "text/x-python",
   "name": "python",
   "nbconvert_exporter": "python",
   "pygments_lexer": "ipython2",
   "version": "2.7.15+"
  }
 },
 "nbformat": 4,
 "nbformat_minor": 4
}
